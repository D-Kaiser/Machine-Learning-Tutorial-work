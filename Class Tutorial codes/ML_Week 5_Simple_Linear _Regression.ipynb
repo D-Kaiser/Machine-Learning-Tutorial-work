{
 "cells": [
  {
   "cell_type": "markdown",
   "metadata": {},
   "source": [
    "# A Simple Linear Regression"
   ]
  },
  {
   "cell_type": "markdown",
   "metadata": {},
   "source": [
    "Diabetes Dataset - can be loaded from sklearn(mean centred and scaled)\n",
    "\n",
    "For Regression , one feature out of 10 provided is selected, namely the bmi(body mass index). The response of interest (y) is a uantitative measure of disease progression one year after baseline, which hypothetically is linearly dependent on bmi"
   ]
  },
  {
   "cell_type": "markdown",
   "metadata": {},
   "source": [
    "#                                Tasks"
   ]
  },
  {
   "cell_type": "markdown",
   "metadata": {},
   "source": [
    "1. plot bmi and y\n",
    "2. Execute provided code and discuss\n",
    "    a. the coefficients for the linear model (intercept and slope).\n",
    "    b. the coefficient of Determination(R^2)\n",
    "    c. is the linear model provided a good predictive model, why?"
   ]
  },
  {
   "cell_type": "code",
   "execution_count": 1,
   "metadata": {},
   "outputs": [],
   "source": [
    "# print(__doc__)\r\n",
    "# code source: Jaques Grobler\r\n",
    "# License: BSD 3 clause\r\n",
    "# changes made for learning purpose by Okpala Uchechukwu Okpala\r\n",
    "\r\n",
    "import pandas as pd\r\n",
    "import matplotlib.pyplot as plt\r\n",
    "import numpy as np\r\n",
    "from sklearn import datasets\r\n",
    "from sklearn.metrics import mean_squared_error, r2_score\r\n"
   ]
  },
  {
   "cell_type": "code",
   "execution_count": null,
   "metadata": {},
   "outputs": [],
   "source": [
    "#load the diabetes dataset\r\n",
    "diabetes = datasets.load_diabetes()\r\n",
    "#if you want to display dataset keys uncomment below,\r\n",
    "print (diabetes.key())"
   ]
  },
  {
   "cell_type": "code",
   "execution_count": null,
   "metadata": {},
   "outputs": [],
   "source": [
    "from sklearn.model_selection import train_test_split\r\n",
    "from sklearn.linear_model import LinearRegression\r\n",
    "\r\n",
    "data = pd.DataFrame(diabetes.data, columns=[diabetes.feature_names])\r\n",
    "target = pd.DataFrame(diabetes.target)\r\n",
    "#print(data.describe())\r\n",
    "x = diabetes.data[:, np.newaxis, 2]\r\n",
    "y = np.array(target)\r\n",
    "\r\n",
    "X_train, X_test, y_train, y_test = train_test_split(x,y, random_state=42)\r\n",
    "lr = LinearRegression().fit(X_train, y_train) \r\n",
    "\r\n",
    "print(\"lr.coef_: {}\".format(lr.coef_))\r\n",
    "print(\"lr.intercept_: {}\".format(lr.intercept_))\r\n",
    "\r\n",
    "# Make predictions using the testing set\r\n",
    "y_pred = lr.predict(X_test)\r\n",
    "\r\n",
    "print ('Coefficient of Determination R squared: %.2f' % r2_score(y_test, y_pred))\r\n",
    "\r\n",
    "#plot outputs\r\n",
    "plt.scatter(X_test, y_test, color='black')\r\n",
    "plt.plot(X_test, y_test, color='blue', linewidth=3)\r\n",
    "plt.xticks(())\r\n",
    "plt.yticks(())\r\n",
    "plt.show()"
   ]
  },
  {
   "cell_type": "raw",
   "metadata": {},
   "source": []
  }
 ],
 "metadata": {
  "interpreter": {
   "hash": "51ddf0e706720420094069fdfda5ce527a09d72184f71302b5d55f33a7e47bec"
  },
  "kernelspec": {
   "display_name": "Python 3.9.0 64-bit",
   "name": "python3"
  },
  "language_info": {
   "codemirror_mode": {
    "name": "ipython",
    "version": 3
   },
   "file_extension": ".py",
   "mimetype": "text/x-python",
   "name": "python",
   "nbconvert_exporter": "python",
   "pygments_lexer": "ipython3",
   "version": "3.9.0"
  }
 },
 "nbformat": 4,
 "nbformat_minor": 4
}