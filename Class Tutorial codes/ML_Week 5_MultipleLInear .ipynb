{
 "cells": [
  {
   "cell_type": "markdown",
   "metadata": {},
   "source": [
    "# B2: Multiple Linear Regression"
   ]
  },
  {
   "cell_type": "markdown",
   "metadata": {},
   "source": [
    "Use Ridge Regression and tune alpha hyper-parameter"
   ]
  },
  {
   "cell_type": "markdown",
   "metadata": {},
   "source": [
    "# tasks "
   ]
  },
  {
   "cell_type": "markdown",
   "metadata": {},
   "source": [
    "1. Produce a scatterplot matrix for set of features/attributes - use pandas.plotting.scatter_matrix class(check examples and documentation).\n",
    "2. can you produce a VIF table for your independent variables - you can use: \n",
    ">> from statsmodels.stats.outliers_influence import variance_inflation_factor\n",
    "\n",
    "3. Explore potential multicollinearity between the attributes - how would you design your linear model if evident multicollinearity exists\n",
    "\n",
    "4. Execute the provided code and discuss\n",
    "\n",
    "    a. Are scores provided by both regression models different Explain why?\n",
    "    \n",
    "    b. Tune alpha hyper-parameter and explore prediction scores - explain results.\n",
    "    \n",
    "    c. Produce a residuals plot for each case - you either implement a calculations yourself or use yellowbricks's class- \n",
    "    \n",
    "\n"
   ]
  },
  {
   "cell_type": "code",
   "execution_count": 6,
   "metadata": {},
   "outputs": [
    {
     "name": "stdout",
     "output_type": "stream",
     "text": [
      "Training set score: 0.95\n",
      "Test set score: 0.61\n",
      "Ridge Training set score: 0.89\n",
      "Ridge Test set score: 0.89\n"
     ]
    }
   ],
   "source": [
    "import pandas as pd\n",
    "import matplotlib.pyplot as plt\n",
    "import numpy as np\n",
    "from sklearn import datasets\n",
    "from sklearn.preprocessing import MinMaxScaler, PolynomialFeatures\n",
    "\n",
    "from sklearn.model_selection import train_test_split\n",
    "from sklearn.linear_model import LinearRegression\n",
    "from sklearn.linear_model import Ridge\n",
    "\n",
    "#boston dataset extended: added features using polynomialFeatures\n",
    "def load_extended_boston():\n",
    "    boston = datasets.load_boston()\n",
    "    X = boston.data\n",
    "    \n",
    "    X = MinMaxScaler().fit_transform(boston.data)\n",
    "    X = PolynomialFeatures(degree=2, include_bias=False).fit_transform(X)\n",
    "    return X, boston.target\n",
    "\n",
    "X, y = load_extended_boston()\n",
    "\n",
    "X_train, X_test, y_train, y_test = train_test_split(X,y, random_state=0)\n",
    "lr = LinearRegression().fit(X_train, y_train) \n",
    "\n",
    "ridge = Ridge(alpha=1.0).fit(X_train, y_train)\n",
    "\n",
    "print(\"Training set score: {:.2f}\".format(lr.score(X_train, y_train)))\n",
    "print(\"Test set score: {:.2f}\".format(lr.score(X_test, y_test)))\n",
    "print(\"Ridge Training set score: {:.2f}\".format(ridge.score(X_train, y_train)))\n",
    "print(\"Ridge Test set score: {:.2f}\".format(ridge.score(X_train, y_train)))"
   ]
  },
  {
   "cell_type": "code",
   "execution_count": null,
   "metadata": {},
   "outputs": [],
   "source": [
    "\n",
    "()"
   ]
  }
 ],
 "metadata": {
  "kernelspec": {
   "display_name": "Python 3",
   "language": "python",
   "name": "python3"
  },
  "language_info": {
   "codemirror_mode": {
    "name": "ipython",
    "version": 3
   },
   "file_extension": ".py",
   "mimetype": "text/x-python",
   "name": "python",
   "nbconvert_exporter": "python",
   "pygments_lexer": "ipython3",
   "version": "3.8.5"
  }
 },
 "nbformat": 4,
 "nbformat_minor": 4
}
