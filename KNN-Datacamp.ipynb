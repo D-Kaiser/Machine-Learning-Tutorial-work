{
 "metadata": {
  "language_info": {
   "codemirror_mode": {
    "name": "ipython",
    "version": 3
   },
   "file_extension": ".py",
   "mimetype": "text/x-python",
   "name": "python",
   "nbconvert_exporter": "python",
   "pygments_lexer": "ipython3",
   "version": "3.9.0"
  },
  "orig_nbformat": 4,
  "kernelspec": {
   "name": "python3",
   "display_name": "Python 3.9.0 64-bit"
  },
  "interpreter": {
   "hash": "51ddf0e706720420094069fdfda5ce527a09d72184f71302b5d55f33a7e47bec"
  }
 },
 "nbformat": 4,
 "nbformat_minor": 2,
 "cells": [
  {
   "cell_type": "code",
   "execution_count": 1,
   "metadata": {},
   "outputs": [],
   "source": [
    "# Assigning features and label variables\n",
    "# First Feature\n",
    "weather=['Sunny','Sunny','Overcast','Rainy','Rainy','Rainy','Overcast','Sunny','Sunny',\n",
    "'Rainy','Sunny','Overcast','Overcast','Rainy']\n",
    "# Second Feature\n",
    "temp=['Hot','Hot','Hot','Mild','Cool','Cool','Cool','Mild','Cool','Mild','Mild','Mild','Hot','Mild']\n",
    "\n",
    "# Label or target varible\n",
    "play=['No','No','Yes','Yes','Yes','No','Yes','No','Yes','Yes','Yes','Yes','Yes','No']"
   ]
  },
  {
   "cell_type": "code",
   "execution_count": 2,
   "metadata": {},
   "outputs": [
    {
     "output_type": "stream",
     "name": "stdout",
     "text": [
      "[2 2 0 1 1 1 0 2 2 1 2 0 0 1]\n[1 1 1 2 0 0 0 2 0 2 2 2 1 2]\n[0 0 1 1 1 0 1 0 1 1 1 1 1 0]\n"
     ]
    }
   ],
   "source": [
    "# Import Label Encoder \n",
    "from sklearn import preprocessing\n",
    "\n",
    "# Creating Label Encoder\n",
    "le = preprocessing.LabelEncoder()\n",
    "\n",
    "# Convert the all the strings into numbers\n",
    "weather_encoded = le.fit_transform(weather)\n",
    "temp_encoded = le.fit_transform(temp)\n",
    "label = le.fit_transform(play)\n",
    "\n",
    "# Print the encoded weather list\n",
    "print(weather_encoded)\n",
    "print(temp_encoded)\n",
    "print(label)\n"
   ]
  },
  {
   "cell_type": "code",
   "execution_count": 3,
   "metadata": {},
   "outputs": [
    {
     "output_type": "stream",
     "name": "stdout",
     "text": [
      "[(2, 1), (2, 1), (0, 1), (1, 2), (1, 0), (1, 0), (0, 0), (2, 2), (2, 0), (1, 2), (2, 2), (0, 2), (0, 1), (1, 2)]\n"
     ]
    }
   ],
   "source": [
    "# Combine Weather and Temp into a singular list of tuples - features\n",
    "features = list(zip(weather_encoded, temp_encoded))\n",
    "\n",
    "print(features)"
   ]
  },
  {
   "source": [
    "### 1. Import the KNN classifier model \n",
    "### 2. Create the KNN classifier object by passing argument number of neighbors in KNeighborsClassifier() function.\n",
    "### 3. Then, fit your model on the train set using fit() \n",
    "### 4. Perform prediction on the test set using predict(). \n"
   ],
   "cell_type": "markdown",
   "metadata": {}
  },
  {
   "cell_type": "code",
   "execution_count": null,
   "metadata": {},
   "outputs": [],
   "source": []
  }
 ]
}